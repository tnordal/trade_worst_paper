{
 "cells": [
  {
   "cell_type": "code",
   "execution_count": 1,
   "metadata": {},
   "outputs": [],
   "source": [
    "from os import path\n",
    "from os.path import join\n",
    "import pandas as pd\n",
    "import yfinance as yf"
   ]
  },
  {
   "cell_type": "code",
   "execution_count": 2,
   "metadata": {},
   "outputs": [],
   "source": [
    "from src.config import (\n",
    "    REPORTS_DIR\n",
    ")"
   ]
  },
  {
   "cell_type": "code",
   "execution_count": 3,
   "metadata": {},
   "outputs": [],
   "source": [
    "import PySimpleGUI as sg"
   ]
  },
  {
   "cell_type": "code",
   "execution_count": null,
   "metadata": {},
   "outputs": [],
   "source": []
  },
  {
   "cell_type": "code",
   "execution_count": 4,
   "metadata": {},
   "outputs": [],
   "source": [
    "def dialog_trade():\n",
    "    sg.theme('BrownBlue')   # Add a touch of color\n",
    "    \n",
    "    # All the stuff inside your window.\n",
    "    left_txtbox_lenght = 22\n",
    "    layout = [\n",
    "        [sg.Text('Buy or Sell a Stock!', font='bold 16', size=(30, None), justification='center')],\n",
    "        [\n",
    "            sg.Text('Enter Trade Date', font='bold', size=(left_txtbox_lenght,None)),\n",
    "            sg.In(key='-TRADE_DATE-', font='bold', size=(10, None)),\n",
    "            sg.CalendarButton('Cal', target='-TRADE_DATE-', format='%Y-%m-%d', font='bold', size=(4, None))  \n",
    "        ],\n",
    "        [sg.Text('Enter Ticker', font='bold', size=(left_txtbox_lenght,None)), sg.InputText(key='-TICKER-', font='bold', size=(10, None))],\n",
    "        [\n",
    "            sg.Text('Enter buy or sell', font='bold', size=(left_txtbox_lenght,None)), \n",
    "            sg.Listbox(['buy', 'sell'],default_values='buy', font='bold',\n",
    "                       size=(10, 2), select_mode=sg.LISTBOX_SELECT_MODE_SINGLE, key='-ACTION-')            \n",
    "        ],\n",
    "        [sg.Text('Enter numper of stocks', font='bold', size=(left_txtbox_lenght,None)), sg.InputText(key='-NSTOCKS-', font='bold', size=(10, None))],\n",
    "        [sg.Text('Enter Price', font='bold', size=(left_txtbox_lenght,None)), sg.InputText(key='-PRICE-', font='bold', size=(10, None))],              \n",
    "        [sg.Button('Ok', size=(6, 2)), sg.Button('Cancel', size=(6, 2))]\n",
    "    ]\n",
    "\n",
    "    # Create the Window\n",
    "    window = sg.Window('Trade Dialog!', layout)\n",
    "    # Event Loop to process \"events\" and get the \"values\" of the inputs\n",
    "    while True:\n",
    "        event, values = window.read()\n",
    "        if event == sg.WIN_CLOSED or event == 'Cancel': # if user closes window or clicks cancel\n",
    "            window.close()\n",
    "            return None\n",
    "        else:\n",
    "            dict_values = {\n",
    "                'date': values['-TRADE_DATE-'],\n",
    "                'ticker': values['-TICKER-'],\n",
    "                'action': values['-ACTION-'][0],\n",
    "                'nstocks': values['-NSTOCKS-'],\n",
    "                'price': values['-PRICE-']\n",
    "            }\n",
    "            \n",
    "            window.close()\n",
    "            return dict_values\n",
    "        "
   ]
  },
  {
   "cell_type": "code",
   "execution_count": 5,
   "metadata": {},
   "outputs": [],
   "source": [
    "new_trade = dialog_trade()"
   ]
  },
  {
   "cell_type": "code",
   "execution_count": 9,
   "metadata": {},
   "outputs": [
    {
     "data": {
      "text/plain": [
       "{'date': '2023-05-24',\n",
       " 'ticker': 'nhy.ol',\n",
       " 'action': 'buy',\n",
       " 'nstocks': '200',\n",
       " 'price': '120.5'}"
      ]
     },
     "execution_count": 9,
     "metadata": {},
     "output_type": "execute_result"
    }
   ],
   "source": [
    "new_trade"
   ]
  },
  {
   "cell_type": "code",
   "execution_count": 58,
   "metadata": {},
   "outputs": [],
   "source": [
    "new_trade = {'date': '2023-2-5','ticker': 'nhy.ol','action': 'buy','nstocks': '200','price': '120.5'}"
   ]
  },
  {
   "cell_type": "code",
   "execution_count": 61,
   "metadata": {},
   "outputs": [],
   "source": [
    "def check_trade_input():\n",
    "    try:\n",
    "        trade_date = pd.to_datetime(new_trade['date'])\n",
    "    except ValueError as e:\n",
    "        return e\n",
    "\n",
    "    ticker = new_trade['ticker']\n",
    "    if len(ticker) == 0:\n",
    "        return f\"Ticker can't be empty\"\n",
    "\n",
    "    action = new_trade['action']\n",
    "    \n",
    "    try:\n",
    "        nstocks = int(new_trade['nstocks'])\n",
    "    except ValueError as e:\n",
    "        return e\n",
    "\n",
    "    try:\n",
    "        price = float(new_trade['price'])\n",
    "    except ValueError as e:\n",
    "        return e\n",
    "    \n",
    "    return [trade_date, ticker, action, nstocks, price]"
   ]
  },
  {
   "cell_type": "code",
   "execution_count": 62,
   "metadata": {},
   "outputs": [
    {
     "data": {
      "text/plain": [
       "[Timestamp('2023-02-05 00:00:00'), 'nhy.ol', 'buy', 200, 120.5]"
      ]
     },
     "execution_count": 62,
     "metadata": {},
     "output_type": "execute_result"
    }
   ],
   "source": [
    "check_trade_input()"
   ]
  },
  {
   "cell_type": "code",
   "execution_count": 63,
   "metadata": {},
   "outputs": [
    {
     "data": {
      "text/plain": [
       "Timestamp('2023-02-01 00:00:00')"
      ]
     },
     "execution_count": 63,
     "metadata": {},
     "output_type": "execute_result"
    }
   ],
   "source": [
    "trade_date"
   ]
  },
  {
   "cell_type": "code",
   "execution_count": null,
   "metadata": {},
   "outputs": [],
   "source": []
  }
 ],
 "metadata": {
  "kernelspec": {
   "display_name": "finance_311",
   "language": "python",
   "name": "python3"
  },
  "language_info": {
   "codemirror_mode": {
    "name": "ipython",
    "version": 3
   },
   "file_extension": ".py",
   "mimetype": "text/x-python",
   "name": "python",
   "nbconvert_exporter": "python",
   "pygments_lexer": "ipython3",
   "version": "3.11.3"
  },
  "orig_nbformat": 4
 },
 "nbformat": 4,
 "nbformat_minor": 2
}
