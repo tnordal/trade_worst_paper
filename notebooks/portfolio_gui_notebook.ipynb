{
 "cells": [
  {
   "cell_type": "code",
   "execution_count": 19,
   "metadata": {},
   "outputs": [],
   "source": [
    "from os import path\n",
    "from os.path import join\n",
    "import pandas as pd\n",
    "import yfinance as yf"
   ]
  },
  {
   "cell_type": "code",
   "execution_count": 20,
   "metadata": {},
   "outputs": [],
   "source": [
    "from src.config import (\n",
    "    REPORTS_DIR\n",
    ")"
   ]
  },
  {
   "cell_type": "code",
   "execution_count": 21,
   "metadata": {},
   "outputs": [],
   "source": [
    "import PySimpleGUI as sg"
   ]
  },
  {
   "cell_type": "code",
   "execution_count": null,
   "metadata": {},
   "outputs": [],
   "source": []
  },
  {
   "cell_type": "code",
   "execution_count": 39,
   "metadata": {},
   "outputs": [],
   "source": [
    "def dialog_trade():\n",
    "    sg.theme('BrownBlue')   # Add a touch of color\n",
    "    # All the stuff inside your window.\n",
    "    \n",
    "    layout = [\n",
    "        [sg.T()]\n",
    "    ]\n",
    "\n",
    "    # Create the Window\n",
    "    window = sg.Window('Trade Dialog!', layout)\n",
    "    # Event Loop to process \"events\" and get the \"values\" of the inputs\n",
    "    while True:\n",
    "        event, values = window.read()\n",
    "        if event == sg.WIN_CLOSED or event == 'Cancel': # if user closes window or clicks cancel\n",
    "            window.close()\n",
    "            return None\n",
    "        else:\n",
    "            dict_values = {\n",
    "                'date': values['-TRADE_DATE-'],\n",
    "                'ticker': values['-TICKER-'],\n",
    "                'action': values['-ACTION-'][0],\n",
    "                'nstocks': values['-NSTOCKS-'],\n",
    "                'price': values['-PRICE-']\n",
    "            }\n",
    "            \n",
    "            window.close()\n",
    "            return dict_values\n",
    "        "
   ]
  },
  {
   "cell_type": "code",
   "execution_count": 40,
   "metadata": {},
   "outputs": [
    {
     "name": "stdout",
     "output_type": "stream",
     "text": [
      "None\n"
     ]
    }
   ],
   "source": [
    "print(dialog_trade())"
   ]
  },
  {
   "cell_type": "code",
   "execution_count": 26,
   "metadata": {},
   "outputs": [],
   "source": [
    "# sg.theme_previewer()"
   ]
  },
  {
   "cell_type": "code",
   "execution_count": 25,
   "metadata": {},
   "outputs": [],
   "source": [
    "    # layout = [\n",
    "    #     [sg.Text('Buy or Sell a Stock!')],\n",
    "    #     [\n",
    "    #         sg.Text('Enter Trade Date', size=(18,None)),\n",
    "    #         sg.CalendarButton('Cal', target='-TRADE_DATE-', format='%Y-%m-%d', size=(5, None)),\n",
    "    #         sg.In(key='-TRADE_DATE-')     \n",
    "    #     ],\n",
    "    #     [sg.Text('Enter Ticker', size=(26,None)), sg.InputText(key='-TICKER-', size=(10, None)),],\n",
    "    #     [\n",
    "    #         sg.Text('Enter buy or sell', size=(18,None)), \n",
    "    #         sg.Listbox(['buy', 'sell'],default_values='buy',\n",
    "    #                    size=(10, 2), select_mode=sg.LISTBOX_SELECT_MODE_SINGLE, key='-ACTION-')            \n",
    "    #     ],\n",
    "    #     [sg.Text('Enter numper of stocks', size=(18,None)), sg.InputText(key='-NSTOCKS-')],\n",
    "    #     [sg.Text('Enter Price', size=(18,None)), sg.InputText(key='-PRICE-')],\n",
    "    #     [sg.T()],\n",
    "    #     [sg.Button('Ok'), sg.Button('Cancel')]\n",
    "    # ]"
   ]
  },
  {
   "cell_type": "code",
   "execution_count": 38,
   "metadata": {},
   "outputs": [],
   "source": [
    "    # left_column = [\n",
    "    #     [sg.Text('Buy or Sell a Stock!')],\n",
    "    #     [sg.Text('Enter Trade Date')],\n",
    "    #     [sg.Text('Enter Ticker')],\n",
    "    #     [sg.Text('Enter buy or sell')],\n",
    "    #     [sg.Text('Enter numper of stocks')],\n",
    "    #     [sg.Text('Enter Price')],\n",
    "    #     [sg.T()],\n",
    "    #     [sg.Button('Ok'), sg.Button('Cancel')]\n",
    "    # ]\n",
    "    \n",
    "    # center_column = [\n",
    "    #     [sg.T()],\n",
    "    #     [sg.CalendarButton('Cal', target='-TRADE_DATE-', format='%Y-%m-%d')],\n",
    "    #     [sg.T()],\n",
    "    #     [sg.T()],\n",
    "    #     [sg.T()],\n",
    "    #     [sg.T()]\n",
    "    # ]\n",
    "    \n",
    "    # right_column = [\n",
    "    #     [sg.T()],\n",
    "    #     [sg.In(key='-TRADE_DATE-')],\n",
    "    #     [sg.InputText(key='-TICKER-')],\n",
    "    #     [sg.Listbox(['buy', 'sell'],default_values='buy', size=(10, 2), select_mode=sg.LISTBOX_SELECT_MODE_SINGLE, key='-ACTION-')],\n",
    "    #     [sg.InputText(key='-NSTOCKS-')],\n",
    "    #     [sg.InputText(key='-PRICE-')]\n",
    "    # ]\n",
    "    \n",
    "    # layout = [\n",
    "    #      [sg.Column(left_column),\n",
    "    #      sg.Column(center_column),\n",
    "    #      sg.Column(right_column)]\n",
    "    #     ]\n"
   ]
  },
  {
   "cell_type": "code",
   "execution_count": null,
   "metadata": {},
   "outputs": [],
   "source": []
  }
 ],
 "metadata": {
  "kernelspec": {
   "display_name": "finance_311",
   "language": "python",
   "name": "python3"
  },
  "language_info": {
   "codemirror_mode": {
    "name": "ipython",
    "version": 3
   },
   "file_extension": ".py",
   "mimetype": "text/x-python",
   "name": "python",
   "nbconvert_exporter": "python",
   "pygments_lexer": "ipython3",
   "version": "3.11.3"
  },
  "orig_nbformat": 4
 },
 "nbformat": 4,
 "nbformat_minor": 2
}
