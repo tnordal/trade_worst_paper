{
 "cells": [
  {
   "attachments": {},
   "cell_type": "markdown",
   "metadata": {},
   "source": [
    "## Portfolio"
   ]
  },
  {
   "cell_type": "code",
   "execution_count": 1,
   "metadata": {},
   "outputs": [],
   "source": [
    "from os import path\n",
    "from os.path import join\n",
    "import pandas as pd\n",
    "import yfinance as yf"
   ]
  },
  {
   "cell_type": "code",
   "execution_count": 2,
   "metadata": {},
   "outputs": [],
   "source": [
    "from src.config import (\n",
    "    REPORTS_DIR\n",
    ")"
   ]
  },
  {
   "cell_type": "code",
   "execution_count": null,
   "metadata": {},
   "outputs": [],
   "source": []
  },
  {
   "cell_type": "code",
   "execution_count": 3,
   "metadata": {},
   "outputs": [],
   "source": [
    "trades = pd.read_csv(join(REPORTS_DIR, 'trades.csv'))"
   ]
  },
  {
   "cell_type": "code",
   "execution_count": 4,
   "metadata": {},
   "outputs": [
    {
     "data": {
      "text/html": [
       "<div>\n",
       "<style scoped>\n",
       "    .dataframe tbody tr th:only-of-type {\n",
       "        vertical-align: middle;\n",
       "    }\n",
       "\n",
       "    .dataframe tbody tr th {\n",
       "        vertical-align: top;\n",
       "    }\n",
       "\n",
       "    .dataframe thead th {\n",
       "        text-align: right;\n",
       "    }\n",
       "</style>\n",
       "<table border=\"1\" class=\"dataframe\">\n",
       "  <thead>\n",
       "    <tr style=\"text-align: right;\">\n",
       "      <th></th>\n",
       "      <th>date</th>\n",
       "      <th>action</th>\n",
       "      <th>paper</th>\n",
       "      <th>number</th>\n",
       "      <th>price</th>\n",
       "      <th>cost</th>\n",
       "    </tr>\n",
       "  </thead>\n",
       "  <tbody>\n",
       "    <tr>\n",
       "      <th>0</th>\n",
       "      <td>2023-05-15</td>\n",
       "      <td>inv</td>\n",
       "      <td>NOK</td>\n",
       "      <td>30000</td>\n",
       "      <td>1.000</td>\n",
       "      <td>0</td>\n",
       "    </tr>\n",
       "    <tr>\n",
       "      <th>1</th>\n",
       "      <td>2023-05-15</td>\n",
       "      <td>buy</td>\n",
       "      <td>EXTX.OL</td>\n",
       "      <td>830</td>\n",
       "      <td>12.000</td>\n",
       "      <td>29</td>\n",
       "    </tr>\n",
       "    <tr>\n",
       "      <th>2</th>\n",
       "      <td>2023-05-15</td>\n",
       "      <td>buy</td>\n",
       "      <td>HYON.OL</td>\n",
       "      <td>16700</td>\n",
       "      <td>0.568</td>\n",
       "      <td>29</td>\n",
       "    </tr>\n",
       "    <tr>\n",
       "      <th>3</th>\n",
       "      <td>2023-05-15</td>\n",
       "      <td>buy</td>\n",
       "      <td>ZAP.OL</td>\n",
       "      <td>265</td>\n",
       "      <td>36.980</td>\n",
       "      <td>29</td>\n",
       "    </tr>\n",
       "    <tr>\n",
       "      <th>4</th>\n",
       "      <td>2023-05-22</td>\n",
       "      <td>sell</td>\n",
       "      <td>EXTX.OL</td>\n",
       "      <td>830</td>\n",
       "      <td>12.000</td>\n",
       "      <td>29</td>\n",
       "    </tr>\n",
       "    <tr>\n",
       "      <th>5</th>\n",
       "      <td>2023-05-22</td>\n",
       "      <td>sell</td>\n",
       "      <td>HYON.OL</td>\n",
       "      <td>16700</td>\n",
       "      <td>0.526</td>\n",
       "      <td>29</td>\n",
       "    </tr>\n",
       "    <tr>\n",
       "      <th>6</th>\n",
       "      <td>2023-05-22</td>\n",
       "      <td>sell</td>\n",
       "      <td>ZAP.OL</td>\n",
       "      <td>265</td>\n",
       "      <td>38.400</td>\n",
       "      <td>29</td>\n",
       "    </tr>\n",
       "    <tr>\n",
       "      <th>7</th>\n",
       "      <td>2023-05-22</td>\n",
       "      <td>buy</td>\n",
       "      <td>RANA.OL</td>\n",
       "      <td>173</td>\n",
       "      <td>54.000</td>\n",
       "      <td>29</td>\n",
       "    </tr>\n",
       "    <tr>\n",
       "      <th>8</th>\n",
       "      <td>2023-05-22</td>\n",
       "      <td>buy</td>\n",
       "      <td>SBO.OL</td>\n",
       "      <td>283</td>\n",
       "      <td>32.000</td>\n",
       "      <td>29</td>\n",
       "    </tr>\n",
       "    <tr>\n",
       "      <th>9</th>\n",
       "      <td>2023-05-22</td>\n",
       "      <td>buy</td>\n",
       "      <td>SKAND.OL</td>\n",
       "      <td>21600</td>\n",
       "      <td>0.435</td>\n",
       "      <td>29</td>\n",
       "    </tr>\n",
       "    <tr>\n",
       "      <th>10</th>\n",
       "      <td>2023-05-30</td>\n",
       "      <td>sell</td>\n",
       "      <td>RANA.OL</td>\n",
       "      <td>173</td>\n",
       "      <td>55.400</td>\n",
       "      <td>29</td>\n",
       "    </tr>\n",
       "    <tr>\n",
       "      <th>11</th>\n",
       "      <td>2023-05-30</td>\n",
       "      <td>sell</td>\n",
       "      <td>SBO.OL</td>\n",
       "      <td>283</td>\n",
       "      <td>32.400</td>\n",
       "      <td>29</td>\n",
       "    </tr>\n",
       "    <tr>\n",
       "      <th>12</th>\n",
       "      <td>2023-05-30</td>\n",
       "      <td>buy</td>\n",
       "      <td>AKH.OL</td>\n",
       "      <td>1118</td>\n",
       "      <td>7.920</td>\n",
       "      <td>29</td>\n",
       "    </tr>\n",
       "    <tr>\n",
       "      <th>13</th>\n",
       "      <td>2023-05-30</td>\n",
       "      <td>buy</td>\n",
       "      <td>SOFF.OL</td>\n",
       "      <td>362</td>\n",
       "      <td>25.060</td>\n",
       "      <td>29</td>\n",
       "    </tr>\n",
       "    <tr>\n",
       "      <th>14</th>\n",
       "      <td>2023-05-30</td>\n",
       "      <td>buy</td>\n",
       "      <td>SOFTX.OL</td>\n",
       "      <td>1208</td>\n",
       "      <td>7.400</td>\n",
       "      <td>29</td>\n",
       "    </tr>\n",
       "    <tr>\n",
       "      <th>15</th>\n",
       "      <td>2023-06-02</td>\n",
       "      <td>sell</td>\n",
       "      <td>SOFF.OL</td>\n",
       "      <td>362</td>\n",
       "      <td>24.100</td>\n",
       "      <td>29</td>\n",
       "    </tr>\n",
       "    <tr>\n",
       "      <th>16</th>\n",
       "      <td>2023-06-02</td>\n",
       "      <td>sell</td>\n",
       "      <td>AKH.OL</td>\n",
       "      <td>1118</td>\n",
       "      <td>7.680</td>\n",
       "      <td>29</td>\n",
       "    </tr>\n",
       "    <tr>\n",
       "      <th>17</th>\n",
       "      <td>2023-06-02</td>\n",
       "      <td>sell</td>\n",
       "      <td>SOFTX.OL</td>\n",
       "      <td>1208</td>\n",
       "      <td>6.420</td>\n",
       "      <td>29</td>\n",
       "    </tr>\n",
       "    <tr>\n",
       "      <th>18</th>\n",
       "      <td>2023-06-02</td>\n",
       "      <td>sell</td>\n",
       "      <td>SKAND.OL</td>\n",
       "      <td>21600</td>\n",
       "      <td>0.402</td>\n",
       "      <td>29</td>\n",
       "    </tr>\n",
       "  </tbody>\n",
       "</table>\n",
       "</div>"
      ],
      "text/plain": [
       "          date action     paper  number   price  cost\n",
       "0   2023-05-15    inv       NOK   30000   1.000     0\n",
       "1   2023-05-15    buy   EXTX.OL     830  12.000    29\n",
       "2   2023-05-15    buy   HYON.OL   16700   0.568    29\n",
       "3   2023-05-15    buy    ZAP.OL     265  36.980    29\n",
       "4   2023-05-22   sell   EXTX.OL     830  12.000    29\n",
       "5   2023-05-22   sell   HYON.OL   16700   0.526    29\n",
       "6   2023-05-22   sell    ZAP.OL     265  38.400    29\n",
       "7   2023-05-22    buy   RANA.OL     173  54.000    29\n",
       "8   2023-05-22    buy    SBO.OL     283  32.000    29\n",
       "9   2023-05-22    buy  SKAND.OL   21600   0.435    29\n",
       "10  2023-05-30   sell   RANA.OL     173  55.400    29\n",
       "11  2023-05-30   sell    SBO.OL     283  32.400    29\n",
       "12  2023-05-30    buy    AKH.OL    1118   7.920    29\n",
       "13  2023-05-30    buy   SOFF.OL     362  25.060    29\n",
       "14  2023-05-30    buy  SOFTX.OL    1208   7.400    29\n",
       "15  2023-06-02   sell   SOFF.OL     362  24.100    29\n",
       "16  2023-06-02   sell    AKH.OL    1118   7.680    29\n",
       "17  2023-06-02   sell  SOFTX.OL    1208   6.420    29\n",
       "18  2023-06-02   sell  SKAND.OL   21600   0.402    29"
      ]
     },
     "execution_count": 4,
     "metadata": {},
     "output_type": "execute_result"
    }
   ],
   "source": [
    "trades"
   ]
  },
  {
   "cell_type": "code",
   "execution_count": 5,
   "metadata": {},
   "outputs": [],
   "source": [
    "# trades['action_'] = if trades['action'] == 'buy' : -1 else 1\n",
    "# df['equal_or_lower_than_4?'] = df['set_of_numbers'].apply(lambda x: 'True' if x <= 4 else 'False')\n",
    "trades['action_'] = trades['action'].apply(lambda action: 1 if action=='buy' else -1)"
   ]
  },
  {
   "cell_type": "code",
   "execution_count": 6,
   "metadata": {},
   "outputs": [],
   "source": [
    "trades['value'] = trades['number'] * trades['price'] * trades['action_'] + trades['cost']"
   ]
  },
  {
   "cell_type": "code",
   "execution_count": 7,
   "metadata": {},
   "outputs": [
    {
     "data": {
      "text/plain": [
       "-26995.820000000003"
      ]
     },
     "execution_count": 7,
     "metadata": {},
     "output_type": "execute_result"
    }
   ],
   "source": [
    "trades['value'].sum()"
   ]
  },
  {
   "cell_type": "code",
   "execution_count": 8,
   "metadata": {},
   "outputs": [],
   "source": [
    "trades.to_csv(join(REPORTS_DIR, 'trades_calc.csv'))"
   ]
  },
  {
   "cell_type": "code",
   "execution_count": 9,
   "metadata": {},
   "outputs": [],
   "source": [
    "txt = input('Ticker')"
   ]
  },
  {
   "cell_type": "code",
   "execution_count": 10,
   "metadata": {},
   "outputs": [
    {
     "data": {
      "text/plain": [
       "'ZAP.OL'"
      ]
     },
     "execution_count": 10,
     "metadata": {},
     "output_type": "execute_result"
    }
   ],
   "source": [
    "txt"
   ]
  }
 ],
 "metadata": {
  "kernelspec": {
   "display_name": "finance_311",
   "language": "python",
   "name": "python3"
  },
  "language_info": {
   "codemirror_mode": {
    "name": "ipython",
    "version": 3
   },
   "file_extension": ".py",
   "mimetype": "text/x-python",
   "name": "python",
   "nbconvert_exporter": "python",
   "pygments_lexer": "ipython3",
   "version": "3.11.3"
  },
  "orig_nbformat": 4
 },
 "nbformat": 4,
 "nbformat_minor": 2
}
